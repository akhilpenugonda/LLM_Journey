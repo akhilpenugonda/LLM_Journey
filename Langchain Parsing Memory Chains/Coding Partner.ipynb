{
 "cells": [
  {
   "cell_type": "markdown",
   "id": "a01ff606",
   "metadata": {},
   "source": [
    "## Get your [OpenAI API Key](https://platform.openai.com/account/api-keys)"
   ]
  },
  {
   "cell_type": "code",
   "execution_count": 6,
   "metadata": {},
   "outputs": [
    {
     "name": "stdout",
     "output_type": "stream",
     "text": [
      "Note: you may need to restart the kernel to use updated packages.\n"
     ]
    }
   ],
   "source": [
    "pip install -q google-generativeai"
   ]
  },
  {
   "cell_type": "code",
   "execution_count": 14,
   "metadata": {},
   "outputs": [],
   "source": [
    "import pprint\n",
    "import google.generativeai as palm\n",
    "from IPython.display import display, Markdown, Latex\n"
   ]
  },
  {
   "cell_type": "code",
   "execution_count": 15,
   "id": "b7ed03ed-1322-49e3-b2a2-33e94fb592ef",
   "metadata": {
    "tags": []
   },
   "outputs": [],
   "source": [
    "palm.configure(api_key='KEY')"
   ]
  },
  {
   "cell_type": "markdown",
   "id": "bbad9cdb",
   "metadata": {},
   "source": [
    "## Chat API : OpenAI\n",
    "\n",
    "Let's start with a direct API calls to OpenAI."
   ]
  },
  {
   "cell_type": "code",
   "execution_count": 21,
   "id": "484bfa6a",
   "metadata": {
    "tags": []
   },
   "outputs": [
    {
     "data": {
      "text/markdown": [
       "```python\n",
       "# This program prints the Fibonacci series up to n terms\n",
       "\n",
       "def fibonacci(n):\n",
       "    if n < 2:\n",
       "        return n\n",
       "    return fibonacci(n - 1) + fibonacci(n - 2)\n",
       "\n",
       "\n",
       "# Get the number of terms from the user\n",
       "\n",
       "n = int(input(\"Enter the number of terms: \"))\n",
       "\n",
       "# Print the Fibonacci series\n",
       "\n",
       "for i in range(n):\n",
       "    print(fibonacci(i))\n",
       "\n",
       "```\n",
       "\n",
       "Explanation:\n",
       "\n",
       "The Fibonacci series is a sequence of numbers where each number is the sum of the two preceding numbers. The first two numbers in the series are 0 and 1. The function `fibonacci()` takes an integer `n` as input and returns the `n`th Fibonacci number. The function first checks if `n` is less than 2. If it is, the function returns `n`. Otherwise, the function recursively calls itself to get the Fibonacci numbers for `n - 1` and `n - 2` and then returns the sum of these two numbers.\n",
       "\n",
       "The main program gets the number of terms from the user and then prints the Fibonacci series up to that number of terms."
      ],
      "text/plain": [
       "<IPython.core.display.Markdown object>"
      ]
     },
     "metadata": {},
     "output_type": "display_data"
    }
   ],
   "source": [
    "prompt = \"\"\"\n",
    "Write a program for Fibonacci series in Python with explanation\n",
    "\"\"\"\n",
    "\n",
    "completion = palm.generate_text(\n",
    "    model=\"models/text-bison-001\",\n",
    "    prompt=prompt,\n",
    "    temperature=0,\n",
    "    # The maximum length of the response\n",
    "    max_output_tokens=8000,\n",
    ")\n",
    "\n",
    "display(Markdown(completion.result))"
   ]
  },
  {
   "cell_type": "code",
   "execution_count": null,
   "metadata": {},
   "outputs": [],
   "source": []
  }
 ],
 "metadata": {
  "kernelspec": {
   "display_name": "Python 3 (ipykernel)",
   "language": "python",
   "name": "python3"
  },
  "language_info": {
   "codemirror_mode": {
    "name": "ipython",
    "version": 3
   },
   "file_extension": ".py",
   "mimetype": "text/x-python",
   "name": "python",
   "nbconvert_exporter": "python",
   "pygments_lexer": "ipython3",
   "version": "3.11.4"
  }
 },
 "nbformat": 4,
 "nbformat_minor": 5
}
